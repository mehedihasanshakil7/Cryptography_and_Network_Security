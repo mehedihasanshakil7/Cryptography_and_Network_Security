{
  "cells": [
    {
      "cell_type": "markdown",
      "metadata": {
        "id": "NdlbLEfSYwaR"
      },
      "source": [
        "### 1. Suppose you are given a line of text as a plaintext, find out the corresponding Caesar Cipher (i.e. character three to the right modulo 26). Then perform the reverse operation to get original plaintext."
      ]
    },
    {
      "cell_type": "markdown",
      "metadata": {
        "id": "10hTtCubYwaU"
      },
      "source": [
        "## Function for Encryption"
      ]
    },
    {
      "cell_type": "code",
      "execution_count": null,
      "metadata": {
        "id": "biJqWc_1YwaV"
      },
      "outputs": [],
      "source": [
        "def caesar_encrypt(plaintext, shift=3):\n",
        "    ciphertext = \"\"\n",
        "    for char in plaintext:\n",
        "        if char.isalpha():\n",
        "            offset = 65 if char.isupper() else 97\n",
        "            encrypted_char = chr((ord(char) - offset + shift) % 26 + offset)\n",
        "            ciphertext += encrypted_char\n",
        "        else:\n",
        "            ciphertext += char\n",
        "    return ciphertext"
      ]
    },
    {
      "cell_type": "markdown",
      "metadata": {
        "id": "ntFFFBZKYwaY"
      },
      "source": [
        "## Function for decryption"
      ]
    },
    {
      "cell_type": "code",
      "execution_count": null,
      "metadata": {
        "id": "0jgwNXvCYwaZ"
      },
      "outputs": [],
      "source": [
        "def caesar_decrypt(ciphertext, shift=3):\n",
        "    return caesar_encrypt(ciphertext, -shift)"
      ]
    },
    {
      "cell_type": "markdown",
      "metadata": {
        "id": "CFRJaJ5-Ywab"
      },
      "source": [
        "## Example usage"
      ]
    },
    {
      "cell_type": "code",
      "execution_count": null,
      "metadata": {
        "id": "N5-kuBK9Ywab",
        "outputId": "97e88a9d-cee0-4f43-e5f9-6a56f0b4ef16"
      },
      "outputs": [
        {
          "name": "stdout",
          "output_type": "stream",
          "text": [
            "Plaintext: Shakil_138\n",
            "Ciphertext: Vkdnlo_138\n",
            "Decrypted Plaintext: Shakil_138\n"
          ]
        }
      ],
      "source": [
        "plaintext = 'Shakil_138'\n",
        "print(f\"Plaintext: {plaintext}\")\n",
        "ciphertext = caesar_encrypt(plaintext)\n",
        "print(f\"Ciphertext: {ciphertext}\")\n",
        "decrypted_text = caesar_decrypt(ciphertext)\n",
        "print(f\"Decrypted Plaintext: {decrypted_text}\")"
      ]
    }
  ],
  "metadata": {
    "kernelspec": {
      "display_name": "Python 3",
      "language": "python",
      "name": "python3"
    },
    "language_info": {
      "codemirror_mode": {
        "name": "ipython",
        "version": 3
      },
      "file_extension": ".py",
      "mimetype": "text/x-python",
      "name": "python",
      "nbconvert_exporter": "python",
      "pygments_lexer": "ipython3",
      "version": "3.12.3"
    },
    "colab": {
      "provenance": []
    }
  },
  "nbformat": 4,
  "nbformat_minor": 0
}