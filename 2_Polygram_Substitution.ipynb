{
  "cells": [
    {
      "cell_type": "markdown",
      "id": "dd906f37",
      "metadata": {},
      "source": [
        "# Find out the Polygram Substitution Cipher of a given plaintext (Consider the block size of 3). Then perform the reverse operation to get original.plaintext. "
      ]
    },
    {
      "cell_type": "markdown",
      "id": "MAMsrbIjf3my",
      "metadata": {
        "id": "MAMsrbIjf3my"
      },
      "source": [
        "# Function to generate 'Encyption_Rules.txt'"
      ]
    },
    {
      "cell_type": "code",
      "execution_count": 1,
      "id": "09b2c0a1",
      "metadata": {
        "colab": {
          "base_uri": "https://localhost:8080/"
        },
        "id": "09b2c0a1",
        "outputId": "09071590-e8be-4490-b094-fee3f2e3cf86"
      },
      "outputs": [
        {
          "name": "stdout",
          "output_type": "stream",
          "text": [
            "Encryption rules saved to 'Encyption_Rules.txt'\n"
          ]
        }
      ],
      "source": [
        "import random\n",
        "import string\n",
        "from itertools import product\n",
        "\n",
        "def generate_unique_cipher_values(length):\n",
        "    \"\"\"Generate all possible unique cipher values of given length.\"\"\"\n",
        "    chars = string.ascii_lowercase\n",
        "    # Cartesian product of characters repeated `length` times\n",
        "    for tpl in product(chars, repeat=length):\n",
        "        yield ''.join(tpl)\n",
        "\n",
        "def generate_encryption_rules():\n",
        "    encryption_rules = {}\n",
        "\n",
        "    # --- 3-letter keys and unique 3-letter cipher values ---\n",
        "    three_letter_keys = [''.join(t) for t in product(string.ascii_lowercase, repeat=3)]\n",
        "    three_letter_values = list(generate_unique_cipher_values(3))\n",
        "    random.shuffle(three_letter_values)\n",
        "    for key, val in zip(three_letter_keys, three_letter_values):\n",
        "        encryption_rules[key] = val\n",
        "\n",
        "    # --- 2-letter keys and unique 2-letter cipher values ---\n",
        "    two_letter_keys = [''.join(t) for t in product(string.ascii_lowercase, repeat=2)]\n",
        "    two_letter_values = list(generate_unique_cipher_values(2))\n",
        "    random.shuffle(two_letter_values)\n",
        "    for key, val in zip(two_letter_keys, two_letter_values):\n",
        "        encryption_rules[key] = val\n",
        "\n",
        "    # --- 1-letter keys and unique 1-letter cipher values ---\n",
        "    one_letter_keys = list(string.ascii_lowercase)\n",
        "    one_letter_values = list(generate_unique_cipher_values(1))\n",
        "    random.shuffle(one_letter_values)\n",
        "    for key, val in zip(one_letter_keys, one_letter_values):\n",
        "        encryption_rules[key] = val\n",
        "\n",
        "    return encryption_rules\n",
        "\n",
        "def save_encryption_rules_to_file(encryption_rules, filename=\"Encyption_Rules.txt\"):\n",
        "    with open(filename, \"w\") as f:\n",
        "        for plain_block, cipher_block in encryption_rules.items():\n",
        "            f.write(f\"{plain_block} {cipher_block}\\n\")\n",
        "    print(f\"Encryption rules saved to '{filename}'\")\n",
        "\n",
        "if __name__ == \"__main__\":\n",
        "    rules = generate_encryption_rules()\n",
        "    save_encryption_rules_to_file(rules)\n"
      ]
    },
    {
      "cell_type": "markdown",
      "id": "57XgGT4xgHZE",
      "metadata": {
        "id": "57XgGT4xgHZE"
      },
      "source": [
        "# Read the 'Encyption_Rules.txt'"
      ]
    },
    {
      "cell_type": "code",
      "execution_count": 2,
      "id": "9cec4af6",
      "metadata": {
        "colab": {
          "base_uri": "https://localhost:8080/",
          "height": 211
        },
        "id": "9cec4af6",
        "outputId": "3ca01e7d-f1f0-4a29-a2c7-249aa865e461"
      },
      "outputs": [],
      "source": [
        "encryption_rules, decryption_rules = {}, {}\n",
        "\n",
        "with open(\"Encryption_Rules.txt\", \"r\") as file:\n",
        "    for line in file:\n",
        "      word1, word2 = line.strip().split(maxsplit=1)\n",
        "      encryption_rules[word1] = word2\n",
        "      decryption_rules[word2] = word1"
      ]
    },
    {
      "cell_type": "markdown",
      "id": "yUQIG0JMgUV_",
      "metadata": {
        "id": "yUQIG0JMgUV_"
      },
      "source": [
        "# Encryption function"
      ]
    },
    {
      "cell_type": "code",
      "execution_count": 3,
      "id": "b96ae3d1",
      "metadata": {
        "id": "b96ae3d1"
      },
      "outputs": [],
      "source": [
        "def encrypt(plain_text):\n",
        "    cipher_text = \"\"\n",
        "    block = \"\"\n",
        "\n",
        "    for i in range(len(plain_text)):\n",
        "        if i and i % 3 == 0:\n",
        "            cipher_text += encryption_rules[block]\n",
        "            block = \"\"\n",
        "        block += plain_text[i]\n",
        "\n",
        "    cipher_text += encryption_rules[block]\n",
        "    return cipher_text"
      ]
    },
    {
      "cell_type": "markdown",
      "id": "b_koOUfvgdhB",
      "metadata": {
        "id": "b_koOUfvgdhB"
      },
      "source": [
        "# Decryption function"
      ]
    },
    {
      "cell_type": "code",
      "execution_count": 4,
      "id": "e81a6c88",
      "metadata": {
        "id": "e81a6c88"
      },
      "outputs": [],
      "source": [
        "def decrypt(cipher_text):\n",
        "    plain_text = \"\"\n",
        "    block = \"\"\n",
        "\n",
        "    for i in range(len(cipher_text)):\n",
        "        if i and i % 3 == 0:\n",
        "            plain_text += decryption_rules[block]\n",
        "            block = \"\"\n",
        "        block += cipher_text[i]\n",
        "\n",
        "    plain_text += decryption_rules[block]\n",
        "    return plain_text"
      ]
    },
    {
      "cell_type": "markdown",
      "id": "-ttSv32sgubg",
      "metadata": {
        "id": "-ttSv32sgubg"
      },
      "source": [
        "# Example usage"
      ]
    },
    {
      "cell_type": "code",
      "execution_count": 6,
      "id": "155f1cc1",
      "metadata": {
        "id": "155f1cc1"
      },
      "outputs": [
        {
          "name": "stdout",
          "output_type": "stream",
          "text": [
            "Plain Text: mehedihasanshakil\n",
            "Encrypted Text: qsgradeubnduzoovv\n",
            "Decrypted Text: mehedihasanshakil\n"
          ]
        }
      ],
      "source": [
        "plain_text = 'mehedihasanshakil'\n",
        "cipher_text = encrypt(plain_text)\n",
        "decrypted_text = decrypt(cipher_text)\n",
        "\n",
        "print(f\"Plain Text: {plain_text}\")\n",
        "print(f\"Encrypted Text: {cipher_text}\")\n",
        "print(f\"Decrypted Text: {decrypted_text}\")"
      ]
    }
  ],
  "metadata": {
    "colab": {
      "provenance": []
    },
    "kernelspec": {
      "display_name": "Python 3",
      "language": "python",
      "name": "python3"
    },
    "language_info": {
      "codemirror_mode": {
        "name": "ipython",
        "version": 3
      },
      "file_extension": ".py",
      "mimetype": "text/x-python",
      "name": "python",
      "nbconvert_exporter": "python",
      "pygments_lexer": "ipython3",
      "version": "3.11.2"
    }
  },
  "nbformat": 4,
  "nbformat_minor": 5
}
